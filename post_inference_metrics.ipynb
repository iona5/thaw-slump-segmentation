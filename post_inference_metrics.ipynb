{
 "cells": [
  {
   "cell_type": "markdown",
   "metadata": {},
   "source": [
    "# AI-CORE\n",
    "### Post inference metrics calculation script"
   ]
  },
  {
   "cell_type": "code",
   "execution_count": 27,
   "metadata": {},
   "outputs": [],
   "source": [
    "import os\n",
    "from osgeo import gdal_array as ga\n",
    "from sklearn import metrics\n",
    "import rasterio\n",
    "import matplotlib.pyplot as plt"
   ]
  },
  {
   "cell_type": "markdown",
   "metadata": {},
   "source": [
    "#### Settings "
   ]
  },
  {
   "cell_type": "code",
   "execution_count": 93,
   "metadata": {},
   "outputs": [],
   "source": [
    "DS_NAME = '20190820_164143_0f21'\n",
    "DIR_GT = 'data'\n",
    "DIR_PREDICTED = 'inference'"
   ]
  },
  {
   "cell_type": "markdown",
   "metadata": {},
   "source": [
    "#### File setup"
   ]
  },
  {
   "cell_type": "code",
   "execution_count": 94,
   "metadata": {},
   "outputs": [
    {
     "name": "stdout",
     "output_type": "stream",
     "text": [
      "True\n",
      "True\n",
      "True\n"
     ]
    }
   ],
   "source": [
    "gt_file = os.path.join(DIR_GT, DS_NAME, f'{DS_NAME}_mask.tif')\n",
    "inf_file_class = os.path.join(DIR_PREDICTED, DS_NAME, 'pred_binarized.tif')\n",
    "inf_file_proba = os.path.join(DIR_PREDICTED, DS_NAME, 'pred_probability.tif')\n",
    "for p in [gt_file,inf_file_class,inf_file_proba]: \n",
    "    print(os.path.exists(p))"
   ]
  },
  {
   "cell_type": "markdown",
   "metadata": {},
   "source": [
    "#### Load data "
   ]
  },
  {
   "cell_type": "code",
   "execution_count": 95,
   "metadata": {},
   "outputs": [],
   "source": [
    "gt = ga.LoadFile(gt_file)\n",
    "pval = ga.LoadFile(inf_file_proba)"
   ]
  },
  {
   "cell_type": "code",
   "execution_count": 96,
   "metadata": {},
   "outputs": [],
   "source": [
    "with rasterio.open(inf_file_class) as src:\n",
    "    mask = src.dataset_mask() == 255\n",
    "    cl = src.read()[0]"
   ]
  },
  {
   "cell_type": "markdown",
   "metadata": {},
   "source": [
    "#### Analysis"
   ]
  },
  {
   "cell_type": "code",
   "execution_count": 97,
   "metadata": {},
   "outputs": [
    {
     "name": "stdout",
     "output_type": "stream",
     "text": [
      "              precision    recall  f1-score   support\n",
      "\n",
      "           0       0.99      0.99      0.99   7643795\n",
      "           1       0.15      0.14      0.15     86577\n",
      "\n",
      "    accuracy                           0.98   7730372\n",
      "   macro avg       0.57      0.57      0.57   7730372\n",
      "weighted avg       0.98      0.98      0.98   7730372\n",
      "\n",
      "ROC-AUC score: 0.8543476544049038\n",
      "Fbeta score: 0.14283966477029425\n"
     ]
    }
   ],
   "source": [
    "print(metrics.classification_report(gt[mask], cl[mask]))\n",
    "print(\"ROC-AUC score:\", metrics.roc_auc_score(gt[mask], pval[mask]))\n",
    "print(\"Fbeta score:\", metrics.fbeta_score(gt[mask], cl[mask], beta=2))"
   ]
  },
  {
   "cell_type": "code",
   "execution_count": 98,
   "metadata": {},
   "outputs": [
    {
     "data": {
      "image/png": "[encoded data removed]",
      "text/plain": [
       "<Figure size 432x288 with 1 Axes>"
      ]
     },
     "metadata": {},
     "output_type": "display_data"
    }
   ],
   "source": [
    "roc_curve = metrics.roc_curve(gt[mask], pval[mask])\n",
    "plt.plot(roc_curve[0], roc_curve[1])\n",
    "plt.plot([0,0], [1,1], 'k--')\n",
    "plt.show()"
   ]
  }
 ],
 "metadata": {
  "kernelspec": {
   "display_name": "Python 3",
   "language": "python",
   "name": "python3"
  },
  "language_info": {
   "codemirror_mode": {
    "name": "ipython",
    "version": 3
   },
   "file_extension": ".py",
   "mimetype": "text/x-python",
   "name": "python",
   "nbconvert_exporter": "python",
   "pygments_lexer": "ipython3",
   "version": "3.6.5"
  }
 },
 "nbformat": 4,
 "nbformat_minor": 2
}
